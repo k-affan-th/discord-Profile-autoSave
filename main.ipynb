{
 "cells": [
  {
   "cell_type": "markdown",
   "metadata": {},
   "source": [
    "# 1. Import the list of ID from 'data' folders"
   ]
  },
  {
   "cell_type": "code",
   "execution_count": 1,
   "metadata": {},
   "outputs": [],
   "source": [
    "# Create the empty list to store the list of IDs\n",
    "ids = []\n",
    "log_msg = []\n",
    "\n",
    "# Open the file IDs, Read it and Store in list\n",
    "try:\n",
    "    with open('data/IDs.txt', 'r') as f:\n",
    "        ids = f.read().split('\\n')\n",
    "except:\n",
    "    log_msg.append(f'\\n>> PLEASE INSERT ID list in `data/IDs.txt`')\n",
    "\n",
    "log_msg.append(f'\\n\\nLoading ID list (#{len(ids)}):\\n{ids}')"
   ]
  },
  {
   "cell_type": "markdown",
   "metadata": {},
   "source": [
    "# 2. Import and Initial the driver"
   ]
  },
  {
   "cell_type": "code",
   "execution_count": 2,
   "metadata": {},
   "outputs": [],
   "source": [
    "from selenium import webdriver\n",
    "from selenium.webdriver.edge.options import Options\n",
    "\n",
    "edgeOption = Options()\n",
    "edgeOption.add_argument('--headless=new')\n",
    "log_msg.append(\"\\nSet Edge WebDriver with headless options.\")\n",
    "\n",
    "# Initialize the WebDriver and Open the webpage\n",
    "driver = webdriver.Edge(options=edgeOption)\n",
    "log_msg.append(\"Edge WebDriver initialized.\")\n",
    "\n",
    "\n",
    "driver.get('https://toolscord.com/')\n",
    "log_msg.append(\"Opened webpage: https://toolscord.com/\")"
   ]
  },
  {
   "cell_type": "markdown",
   "metadata": {},
   "source": [
    "# 3. Get information of avatar URL and Account name "
   ]
  },
  {
   "cell_type": "code",
   "execution_count": 3,
   "metadata": {},
   "outputs": [],
   "source": [
    "try:\n",
    "    from data.script.AvatarInfo import getAvatarByIDs\n",
    "    log_msg.append(\"Loaded Avatar info script.\")\n",
    "except Exception as e:\n",
    "    log_msg.append(e)\n",
    "    driver.close()\n",
    "    exit()\n",
    "\n",
    "avatar_infos = getAvatarByIDs(driver, ids)\n",
    "log_msg.append(f'\\navatar_infos:')\n",
    "for i, item in enumerate(avatar_infos.items()):\n",
    "    log_msg.append(f'   {i}:  {item}')"
   ]
  },
  {
   "cell_type": "markdown",
   "metadata": {},
   "source": [
    "# 4. Save file and handle the same file in output folder"
   ]
  },
  {
   "cell_type": "code",
   "execution_count": 4,
   "metadata": {},
   "outputs": [],
   "source": [
    "try:\n",
    "    from os import makedirs\n",
    "    from data.script.download_img import *\n",
    "    log_msg.append(\"\\nLoaded download images script.\")\n",
    "except Exception as e:\n",
    "    log_msg.append(e)\n",
    "    driver.close()\n",
    "    exit()\n",
    "\n",
    "new_file_counter = 0\n",
    "for index, user in enumerate(avatar_infos.keys()):\n",
    "    path = f'data/output/{user}/'\n",
    "    makedirs(path, exist_ok=True)\n",
    "\n",
    "    temp_path = 'data/output/temp/'\n",
    "    # Check if the temp directory exists\n",
    "    if not os.path.exists(temp_path):\n",
    "        makedirs(temp_path, exist_ok=True)\n",
    "\n",
    "    name, avatar_url = [x for x in avatar_infos[user].values()]\n",
    "    filename = f\"[{name}] {avatar_url.split('/')[-1].split('?')[0]}\"\n",
    "\n",
    "    avatar_temp_file = f'{temp_path}{filename}.jpeg'\n",
    "    avatar_correct_path = f'{path}{filename}.jpeg'\n",
    "\n",
    "    \n",
    "    download_image(avatar_url, avatar_temp_file)\n",
    "    \n",
    "    try:\n",
    "        count, msg = check_for_duplicates_and_handle(avatar_temp_file, path)\n",
    "        new_file_counter += count\n",
    "        log_msg.append(msg)\n",
    "    except Exception as e:\n",
    "        log_msg.append(f'Error {e}')\n",
    "\n",
    "log_msg.append(f\"{'_'*10}\\nReport:\")\n",
    "log_msg.append(f'Complete to download and store `{new_file_counter} new file(s)` to output folder.')"
   ]
  },
  {
   "cell_type": "markdown",
   "metadata": {},
   "source": [
    "### Close the WebDriver"
   ]
  },
  {
   "cell_type": "code",
   "execution_count": null,
   "metadata": {},
   "outputs": [],
   "source": [
    "driver.close()"
   ]
  },
  {
   "cell_type": "markdown",
   "metadata": {},
   "source": [
    "# 5. Report as Log"
   ]
  },
  {
   "cell_type": "code",
   "execution_count": 11,
   "metadata": {},
   "outputs": [],
   "source": [
    "import logging\n",
    "import time\n",
    "\n",
    "# Create the log directory if it doesn't exist\n",
    "log_dir = \"data/log/\"\n",
    "os.makedirs(log_dir, exist_ok=True)\n",
    "\n",
    "# Create a timestamp for the log file name\n",
    "timestamp = time.strftime(\"%Y-%m-%d_%H-%M-%S\")\n",
    "log_file = f\"{log_dir}{timestamp}.log\"\n",
    "\n",
    "# Configure the logger\n",
    "logging.basicConfig(\n",
    "    filename=log_file,\n",
    "    level=logging.INFO,\n",
    "    format='%(asctime)s %(levelname)s %(message)s'\n",
    ")\n",
    "\n",
    "# Create a logger instance\n",
    "logger = logging.getLogger('Dev')\n",
    "\n",
    "# Log some messages\n",
    "logger.info('\\n'.join(log_msg))\n",
    "\n",
    "print('Done, You can see the report at `data/log`.')"
   ]
  }
 ],
 "metadata": {
  "kernelspec": {
   "display_name": ".venv",
   "language": "python",
   "name": "python3"
  },
  "language_info": {
   "codemirror_mode": {
    "name": "ipython",
    "version": 3
   },
   "file_extension": ".py",
   "mimetype": "text/x-python",
   "name": "python",
   "nbconvert_exporter": "python",
   "pygments_lexer": "ipython3",
   "version": "3.12.4"
  }
 },
 "nbformat": 4,
 "nbformat_minor": 2
}
